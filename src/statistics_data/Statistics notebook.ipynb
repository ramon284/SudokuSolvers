{
 "cells": [
  {
   "cell_type": "code",
   "execution_count": 1,
   "metadata": {},
   "outputs": [
    {
     "data": {
      "text/plain": [
       "'C:\\\\Users\\\\Ramon\\\\Desktop\\\\SudokuSolvers\\\\src\\\\statistics_data'"
      ]
     },
     "execution_count": 1,
     "metadata": {},
     "output_type": "execute_result"
    }
   ],
   "source": [
    "import matplotlib.pyplot as plt\n",
    "import numpy as np\n",
    "import pandas as pd\n",
    "import os\n",
    "os. getcwd()"
   ]
  },
  {
   "cell_type": "code",
   "execution_count": 2,
   "metadata": {},
   "outputs": [
    {
     "name": "stdout",
     "output_type": "stream",
     "text": [
      "4x4  None mean time:  0.0027707149982452  branches:  0.0\n",
      "4x4  DLCS mean time:  0.002700836896896323  branches:  0.0\n",
      "4x4  DLISN mean time:  0.0032182950973510312  branches:  0.0\n",
      "4x4  DLISP mean time:  0.002826662778854349  branches:  0.0\n",
      "4x4  MOMS mean time:  0.002760466098785382  branches:  0.0\n",
      "4x4  VSIDS mean time:  0.00407886314392087  branches:  0.0\n",
      "-------------------\n",
      "9x9  None mean time:  0.6703439130783081  branches:  3.892\n",
      "9x9  DLCS mean time:  1.1164331886768342  branches:  123.877\n",
      "9x9  DLISN mean time:  0.9898407735824585  branches:  79.485\n",
      "9x9  DLISP mean time:  0.6643650755882263  branches:  4.542\n",
      "9x9  MOMS mean time:  0.6564850664138794  branches:  3.429\n",
      "9x9  VSIDS mean time:  1.0937753694057464  branches:  8.71\n",
      "-------------------\n"
     ]
    },
    {
     "data": {
      "text/html": [
       "<div>\n",
       "<style scoped>\n",
       "    .dataframe tbody tr th:only-of-type {\n",
       "        vertical-align: middle;\n",
       "    }\n",
       "\n",
       "    .dataframe tbody tr th {\n",
       "        vertical-align: top;\n",
       "    }\n",
       "\n",
       "    .dataframe thead th {\n",
       "        text-align: right;\n",
       "    }\n",
       "</style>\n",
       "<table border=\"1\" class=\"dataframe\">\n",
       "  <thead>\n",
       "    <tr style=\"text-align: right;\">\n",
       "      <th></th>\n",
       "      <th>Unnamed: 0</th>\n",
       "      <th>start Length</th>\n",
       "      <th>Time</th>\n",
       "      <th>Branches</th>\n",
       "      <th>Unit clauses removed</th>\n",
       "      <th>Pure clauses removed</th>\n",
       "    </tr>\n",
       "  </thead>\n",
       "  <tbody>\n",
       "    <tr>\n",
       "      <th>30</th>\n",
       "      <td>30</td>\n",
       "      <td>23</td>\n",
       "      <td>0.951313</td>\n",
       "      <td>2</td>\n",
       "      <td>12003</td>\n",
       "      <td>0</td>\n",
       "    </tr>\n",
       "    <tr>\n",
       "      <th>186</th>\n",
       "      <td>186</td>\n",
       "      <td>24</td>\n",
       "      <td>0.952856</td>\n",
       "      <td>0</td>\n",
       "      <td>12012</td>\n",
       "      <td>0</td>\n",
       "    </tr>\n",
       "    <tr>\n",
       "      <th>0</th>\n",
       "      <td>0</td>\n",
       "      <td>21</td>\n",
       "      <td>0.952997</td>\n",
       "      <td>2</td>\n",
       "      <td>11998</td>\n",
       "      <td>0</td>\n",
       "    </tr>\n",
       "    <tr>\n",
       "      <th>31</th>\n",
       "      <td>31</td>\n",
       "      <td>23</td>\n",
       "      <td>0.962221</td>\n",
       "      <td>1</td>\n",
       "      <td>12006</td>\n",
       "      <td>0</td>\n",
       "    </tr>\n",
       "    <tr>\n",
       "      <th>461</th>\n",
       "      <td>461</td>\n",
       "      <td>25</td>\n",
       "      <td>0.965078</td>\n",
       "      <td>5</td>\n",
       "      <td>11962</td>\n",
       "      <td>0</td>\n",
       "    </tr>\n",
       "    <tr>\n",
       "      <th>...</th>\n",
       "      <td>...</td>\n",
       "      <td>...</td>\n",
       "      <td>...</td>\n",
       "      <td>...</td>\n",
       "      <td>...</td>\n",
       "      <td>...</td>\n",
       "    </tr>\n",
       "    <tr>\n",
       "      <th>550</th>\n",
       "      <td>550</td>\n",
       "      <td>25</td>\n",
       "      <td>2.327664</td>\n",
       "      <td>180</td>\n",
       "      <td>13554</td>\n",
       "      <td>0</td>\n",
       "    </tr>\n",
       "    <tr>\n",
       "      <th>660</th>\n",
       "      <td>660</td>\n",
       "      <td>25</td>\n",
       "      <td>2.685908</td>\n",
       "      <td>224</td>\n",
       "      <td>16475</td>\n",
       "      <td>0</td>\n",
       "    </tr>\n",
       "    <tr>\n",
       "      <th>558</th>\n",
       "      <td>558</td>\n",
       "      <td>25</td>\n",
       "      <td>3.018468</td>\n",
       "      <td>134</td>\n",
       "      <td>17311</td>\n",
       "      <td>0</td>\n",
       "    </tr>\n",
       "    <tr>\n",
       "      <th>679</th>\n",
       "      <td>679</td>\n",
       "      <td>23</td>\n",
       "      <td>4.051868</td>\n",
       "      <td>272</td>\n",
       "      <td>18533</td>\n",
       "      <td>0</td>\n",
       "    </tr>\n",
       "    <tr>\n",
       "      <th>262</th>\n",
       "      <td>262</td>\n",
       "      <td>24</td>\n",
       "      <td>4.684809</td>\n",
       "      <td>401</td>\n",
       "      <td>25353</td>\n",
       "      <td>0</td>\n",
       "    </tr>\n",
       "  </tbody>\n",
       "</table>\n",
       "<p>1000 rows × 6 columns</p>\n",
       "</div>"
      ],
      "text/plain": [
       "     Unnamed: 0  start Length      Time  Branches  Unit clauses removed  \\\n",
       "30           30            23  0.951313         2                 12003   \n",
       "186         186            24  0.952856         0                 12012   \n",
       "0             0            21  0.952997         2                 11998   \n",
       "31           31            23  0.962221         1                 12006   \n",
       "461         461            25  0.965078         5                 11962   \n",
       "..          ...           ...       ...       ...                   ...   \n",
       "550         550            25  2.327664       180                 13554   \n",
       "660         660            25  2.685908       224                 16475   \n",
       "558         558            25  3.018468       134                 17311   \n",
       "679         679            23  4.051868       272                 18533   \n",
       "262         262            24  4.684809       401                 25353   \n",
       "\n",
       "     Pure clauses removed  \n",
       "30                      0  \n",
       "186                     0  \n",
       "0                       0  \n",
       "31                      0  \n",
       "461                     0  \n",
       "..                    ...  \n",
       "550                     0  \n",
       "660                     0  \n",
       "558                     0  \n",
       "679                     0  \n",
       "262                     0  \n",
       "\n",
       "[1000 rows x 6 columns]"
      ]
     },
     "execution_count": 2,
     "metadata": {},
     "output_type": "execute_result"
    }
   ],
   "source": [
    "heuristics =['None', 'DLCS', 'DLISN', 'DLISP', 'MOMS', 'VSIDS']\n",
    "sizes = ['4x4', '9x9']\n",
    "for size in sizes:\n",
    "    for heuristic in heuristics:\n",
    "        filename = size+'/'+heuristic+'.csv'\n",
    "        df = pd.read_csv(filename)\n",
    "        #print(df)\n",
    "        print(size + ' ',heuristic + ' mean time: ',df['Time'].mean(), ' branches: ',df['Branches'].mean())\n",
    "    print('-------------------')\n",
    "    \n",
    "filename = '9x9'+'/'+'VSIDS'+'.csv'\n",
    "df = pd.read_csv(filename)\n",
    "df.sort_values(by=[\"Time\"]) ## yikes."
   ]
  },
  {
   "cell_type": "code",
   "execution_count": 3,
   "metadata": {
    "scrolled": true
   },
   "outputs": [
    {
     "data": {
      "image/png": "[encoded data removed]",
      "text/plain": [
       "<Figure size 432x288 with 1 Axes>"
      ]
     },
     "metadata": {
      "needs_background": "light"
     },
     "output_type": "display_data"
    },
    {
     "data": {
      "image/png": "[encoded data removed]",
      "text/plain": [
       "<Figure size 432x288 with 1 Axes>"
      ]
     },
     "metadata": {
      "needs_background": "light"
     },
     "output_type": "display_data"
    },
    {
     "data": {
      "image/png": "[encoded data removed]",
      "text/plain": [
       "<Figure size 432x288 with 1 Axes>"
      ]
     },
     "metadata": {
      "needs_background": "light"
     },
     "output_type": "display_data"
    },
    {
     "data": {
      "image/png": "[encoded data removed]",
      "text/plain": [
       "<Figure size 432x288 with 1 Axes>"
      ]
     },
     "metadata": {
      "needs_background": "light"
     },
     "output_type": "display_data"
    }
   ],
   "source": [
    "def makebarplots(sudokuSize=9, time=[], branches=[],unitCRemoved=[],pureCRemoved=[],\n",
    "                   colors = ['red', 'cyan', 'green', 'purple'],\n",
    "                   elementNames = ['Time', 'branches', 'Unit clauses removed', 'Pure clauses removed'],\n",
    "                   heuristics =['None', 'DLCS', 'DLISN', 'DLISP', 'MOMS', 'VSIDS']\n",
    "                   ):\n",
    "    elements = [time, branches, unitCRemoved, pureCRemoved]\n",
    "    for heuristic in heuristics:\n",
    "        if(sudokuSize == 9):\n",
    "            df = pd.read_csv('9x9/'+heuristic+'.csv')\n",
    "        elif(sudokuSize == 4):\n",
    "            df = pd.read_csv('4x4/'+heuristic+'.csv')\n",
    "        time.append(df[\"Time\"].mean())\n",
    "        branches.append(df[\"Branches\"].mean())\n",
    "        unitCRemoved.append(df[\"Unit clauses removed\"].mean())\n",
    "        pureCRemoved.append(df[\"Pure clauses removed\"].mean())\n",
    "    for element, name, color in zip(elements, elementNames, colors):\n",
    "        fig, ax = plt.subplots()\n",
    "        ax.set_ylabel('average'+name)\n",
    "        plt.bar(heuristics, element, color=color)\n",
    "        plt.show()\n",
    "\n",
    "makebarplots(sudokuSize=4) ## if you call this function from another cell it's broken\n",
    "                           ## also calling it twice at once breaks it, idk man something with matplotlib"
   ]
  },
  {
   "cell_type": "code",
   "execution_count": 9,
   "metadata": {
    "pycharm": {
     "name": "#%%\n"
    }
   },
   "outputs": [],
   "source": [
    "time9=[]\n",
    "branches9 = []\n",
    "unitCRemoved9= []\n",
    "pureCRemoved9= []\n",
    "heuristics =['None', 'DLCS', 'DLISN', 'DLISP', 'MOMS']\n",
    "\n",
    "for heuristic in heuristics:\n",
    "    df = pd.read_csv('9x9/'+heuristic+'.csv')\n",
    "    time9.append(df[\"Time\"].mean())\n",
    "    branches9.append(df[\"Branches\"].mean())\n",
    "    unitCRemoved9.append(df[\"Unit clauses removed\"].mean())\n",
    "    pureCRemoved9.append(df[\"Pure clauses removed\"].mean())"
   ]
  },
  {
   "cell_type": "code",
   "execution_count": 10,
   "metadata": {
    "pycharm": {
     "name": "#%%\n"
    }
   },
   "outputs": [],
   "source": [
    "time4=[]\n",
    "branches4 = []\n",
    "unitCRemoved4= []\n",
    "pureCRemoved4= []\n",
    "heuristics =['None', 'DLCS', 'DLISN', 'DLISP', 'MOMS']\n",
    "\n",
    "for heuristic in heuristics:\n",
    "    df = pd.read_csv('4x4/'+heuristic+'.csv')\n",
    "    time4.append(df[\"Time\"].mean())\n",
    "    branches4.append(df[\"Branches\"].mean())\n",
    "    unitCRemoved4.append(df[\"Unit clauses removed\"].mean())\n",
    "    pureCRemoved4.append(df[\"Pure clauses removed\"].mean())"
   ]
  },
  {
   "cell_type": "code",
   "execution_count": 141,
   "metadata": {
    "pycharm": {
     "name": "#%%\n"
    }
   },
   "outputs": [
    {
     "data": {
      "text/plain": [
       "Ttest_indResult(statistic=-9.392521365785493, pvalue=0.00023068371489907698)"
      ]
     },
     "execution_count": 141,
     "metadata": {},
     "output_type": "execute_result"
    }
   ],
   "source": [
    "from scipy import stats\n",
    "stats.ttest_ind(time4, time9, equal_var=False)"
   ]
  },
  {
   "cell_type": "code",
   "execution_count": null,
   "metadata": {},
   "outputs": [],
   "source": []
  },
  {
   "cell_type": "code",
   "execution_count": 142,
   "metadata": {
    "pycharm": {
     "name": "#%%\n"
    }
   },
   "outputs": [
    {
     "data": {
      "text/plain": [
       "Ttest_indResult(statistic=-1.764046924814822, pvalue=0.10819183770657687)"
      ]
     },
     "execution_count": 142,
     "metadata": {},
     "output_type": "execute_result"
    }
   ],
   "source": [
    "stats.ttest_ind(branches4, branches9)"
   ]
  },
  {
   "cell_type": "code",
   "execution_count": 143,
   "metadata": {
    "pycharm": {
     "name": "#%%\n"
    }
   },
   "outputs": [
    {
     "data": {
      "text/plain": [
       "Ttest_indResult(statistic=-230.8713579468384, pvalue=5.715136409353459e-20)"
      ]
     },
     "execution_count": 143,
     "metadata": {},
     "output_type": "execute_result"
    }
   ],
   "source": [
    "stats.ttest_ind(unitCRemoved4, unitCRemoved9)"
   ]
  },
  {
   "cell_type": "code",
   "execution_count": 144,
   "metadata": {
    "pycharm": {
     "name": "#%%\n"
    }
   },
   "outputs": [
    {
     "data": {
      "text/plain": [
       "Ttest_indResult(statistic=nan, pvalue=nan)"
      ]
     },
     "execution_count": 144,
     "metadata": {},
     "output_type": "execute_result"
    }
   ],
   "source": [
    "stats.ttest_ind(pureCRemoved4, pureCRemoved9)"
   ]
  },
  {
   "cell_type": "code",
   "execution_count": 145,
   "metadata": {
    "pycharm": {
     "name": "#%%\n"
    }
   },
   "outputs": [],
   "source": [
    "timeDLISN=[]\n",
    "branchesDLISN = []\n",
    "unitCRemovedDLISN= []\n",
    "pureCRemovedDLISN= []\n",
    "heuristics =[  'DLISN']\n",
    "\n",
    "for heuristic in heuristics:\n",
    "    df = pd.read_csv('9x9/'+heuristic+'.csv')\n",
    "    timeDLISN.append(df[\"Time\"][:500].mean())\n",
    "    timeDLISN.append(df[\"Time\"][500:].mean())\n",
    "    branchesDLISN.append(df[\"Branches\"][:500].mean())\n",
    "    branchesDLISN.append(df[\"Branches\"][500:].mean())\n",
    "    unitCRemovedDLISN.append(df[\"Unit clauses removed\"][:500].mean())\n",
    "    unitCRemovedDLISN.append(df[\"Unit clauses removed\"][500:].mean())\n",
    "    pureCRemovedDLISN.append(df[\"Pure clauses removed\"][:500].mean())\n",
    "    pureCRemovedDLISN.append(df[\"Pure clauses removed\"][500:].mean())"
   ]
  },
  {
   "cell_type": "code",
   "execution_count": 146,
   "metadata": {
    "pycharm": {
     "name": "#%%\n"
    }
   },
   "outputs": [],
   "source": [
    "timeDLISP=[]\n",
    "branchesDLISP = []\n",
    "unitCRemovedDLISP= []\n",
    "pureCRemovedDLISP= []\n",
    "heuristics =[  'DLISP']\n",
    "\n",
    "for heuristic in heuristics:\n",
    "    df = pd.read_csv('9x9/'+heuristic+'.csv')\n",
    "    timeDLISP.append(df[\"Time\"][:500].mean())\n",
    "    timeDLISP.append(df[\"Time\"][500:].mean())\n",
    "    branchesDLISP.append(df[\"Branches\"][:500].mean())\n",
    "    branchesDLISP.append(df[\"Branches\"][500:].mean())\n",
    "    unitCRemovedDLISP.append(df[\"Unit clauses removed\"][:500].mean())\n",
    "    unitCRemovedDLISP.append(df[\"Unit clauses removed\"][500:].mean())\n",
    "    pureCRemovedDLISP.append(df[\"Pure clauses removed\"][:500].mean())\n",
    "    pureCRemovedDLISP.append(df[\"Pure clauses removed\"][500:].mean())"
   ]
  },
  {
   "cell_type": "code",
   "execution_count": 147,
   "metadata": {
    "pycharm": {
     "name": "#%%\n"
    }
   },
   "outputs": [
    {
     "data": {
      "text/plain": [
       "Ttest_indResult(statistic=-13.530770928739901, pvalue=0.005417693207315647)"
      ]
     },
     "execution_count": 147,
     "metadata": {},
     "output_type": "execute_result"
    }
   ],
   "source": [
    "stats.ttest_ind(timeDLISP, timeDLISN)"
   ]
  },
  {
   "cell_type": "code",
   "execution_count": 148,
   "metadata": {
    "pycharm": {
     "name": "#%%\n"
    }
   },
   "outputs": [
    {
     "data": {
      "text/plain": [
       "Ttest_indResult(statistic=-26.722708126367262, pvalue=0.0013974233023386663)"
      ]
     },
     "execution_count": 148,
     "metadata": {},
     "output_type": "execute_result"
    }
   ],
   "source": [
    "stats.ttest_ind(branchesDLISP, branchesDLISN)"
   ]
  },
  {
   "cell_type": "code",
   "execution_count": 149,
   "metadata": {
    "pycharm": {
     "name": "#%%\n"
    }
   },
   "outputs": [
    {
     "data": {
      "text/plain": [
       "Ttest_indResult(statistic=-4.5128733572820625, pvalue=0.045757546299738557)"
      ]
     },
     "execution_count": 149,
     "metadata": {},
     "output_type": "execute_result"
    }
   ],
   "source": [
    "stats.ttest_ind(unitCRemovedDLISP, unitCRemovedDLISN)"
   ]
  },
  {
   "cell_type": "code",
   "execution_count": 150,
   "metadata": {
    "pycharm": {
     "name": "#%%\n"
    }
   },
   "outputs": [
    {
     "data": {
      "text/plain": [
       "Ttest_indResult(statistic=nan, pvalue=nan)"
      ]
     },
     "execution_count": 150,
     "metadata": {},
     "output_type": "execute_result"
    }
   ],
   "source": [
    "stats.ttest_ind(pureCRemovedDLISP, pureCRemovedDLISN)"
   ]
  },
  {
   "cell_type": "code",
   "execution_count": 151,
   "metadata": {
    "pycharm": {
     "name": "#%%\n"
    }
   },
   "outputs": [],
   "source": [
    "timeDLISP=[]\n",
    "branchesDLISP = []\n",
    "unitCRemovedDLISP= []\n",
    "pureCRemovedDLISP= []\n",
    "heuristics =[  'DLISP']\n",
    "\n",
    "for heuristic in heuristics:\n",
    "    df = pd.read_csv('9x9/'+heuristic+'.csv')\n",
    "    timeDLISP.append(df[\"Time\"][:500].mean())\n",
    "    timeDLISP.append(df[\"Time\"][500:].mean())\n",
    "    branchesDLISP.append(df[\"Branches\"][:500].mean())\n",
    "    branchesDLISP.append(df[\"Branches\"][500:].mean())\n",
    "    unitCRemovedDLISP.append(df[\"Unit clauses removed\"][:500].mean())\n",
    "    unitCRemovedDLISP.append(df[\"Unit clauses removed\"][500:].mean())\n",
    "    pureCRemovedDLISP.append(df[\"Pure clauses removed\"][:500].mean())\n",
    "    pureCRemovedDLISP.append(df[\"Pure clauses removed\"][500:].mean())"
   ]
  },
  {
   "cell_type": "code",
   "execution_count": 152,
   "metadata": {
    "pycharm": {
     "name": "#%%\n"
    }
   },
   "outputs": [],
   "source": [
    "timeDLCS=[]\n",
    "branchesDLCS = []\n",
    "unitCRemovedDLCS= []\n",
    "pureCRemovedDLCS= []\n",
    "heuristics =[  'DLCS']\n",
    "\n",
    "for heuristic in heuristics:\n",
    "    df = pd.read_csv('9x9/'+heuristic+'.csv')\n",
    "    timeDLCS.append(df[\"Time\"][:500].mean())\n",
    "    timeDLCS.append(df[\"Time\"][500:].mean())\n",
    "    branchesDLCS.append(df[\"Branches\"][:500].mean())\n",
    "    branchesDLCS.append(df[\"Branches\"][500:].mean())\n",
    "    unitCRemovedDLCS.append(df[\"Unit clauses removed\"][:500].mean())\n",
    "    unitCRemovedDLCS.append(df[\"Unit clauses removed\"][500:].mean())\n",
    "    pureCRemovedDLCS.append(df[\"Pure clauses removed\"][:500].mean())\n",
    "    pureCRemovedDLCS.append(df[\"Pure clauses removed\"][500:].mean())"
   ]
  },
  {
   "cell_type": "code",
   "execution_count": 153,
   "metadata": {
    "pycharm": {
     "name": "#%%\n"
    }
   },
   "outputs": [],
   "source": [
    "timeMOMS=[]\n",
    "branchesMOMS = []\n",
    "unitCRemovedMOMS= []\n",
    "pureCRemovedMOMS= []\n",
    "heuristics =[  'MOMS']\n",
    "\n",
    "for heuristic in heuristics:\n",
    "    df = pd.read_csv('9x9/'+heuristic+'.csv')\n",
    "    timeMOMS.append(df[\"Time\"][:500].mean())\n",
    "    timeMOMS.append(df[\"Time\"][500:].mean())\n",
    "    branchesMOMS.append(df[\"Branches\"][:500].mean())\n",
    "    branchesMOMS.append(df[\"Branches\"][500:].mean())\n",
    "    unitCRemovedMOMS.append(df[\"Unit clauses removed\"][:500].mean())\n",
    "    unitCRemovedMOMS.append(df[\"Unit clauses removed\"][500:].mean())\n",
    "    pureCRemovedMOMS.append(df[\"Pure clauses removed\"][:500].mean())\n",
    "    pureCRemovedMOMS.append(df[\"Pure clauses removed\"][500:].mean())"
   ]
  },
  {
   "cell_type": "code",
   "execution_count": 154,
   "metadata": {
    "pycharm": {
     "name": "#%%\n"
    }
   },
   "outputs": [],
   "source": [
    "timeNone=[]\n",
    "branchesNone = []\n",
    "unitCRemovedNone= []\n",
    "pureCRemovedNone= []\n",
    "heuristics =[  'None']\n",
    "\n",
    "for heuristic in heuristics:\n",
    "    df = pd.read_csv('9x9/'+heuristic+'.csv')\n",
    "    timeNone.append(df[\"Time\"][:500].mean())\n",
    "    timeNone.append(df[\"Time\"][500:].mean())\n",
    "    branchesNone.append(df[\"Branches\"][:500].mean())\n",
    "    branchesNone.append(df[\"Branches\"][500:].mean())\n",
    "    unitCRemovedNone.append(df[\"Unit clauses removed\"][:500].mean())\n",
    "    unitCRemovedNone.append(df[\"Unit clauses removed\"][500:].mean())\n",
    "    pureCRemovedNone.append(df[\"Pure clauses removed\"][:500].mean())\n",
    "    pureCRemovedNone.append(df[\"Pure clauses removed\"][500:].mean())"
   ]
  },
  {
   "cell_type": "code",
   "execution_count": 155,
   "metadata": {
    "pycharm": {
     "name": "#%%\n"
    }
   },
   "outputs": [
    {
     "data": {
      "text/plain": [
       "Ttest_indResult(statistic=-64.91577531796982, pvalue=0.0002372165301290855)"
      ]
     },
     "execution_count": 155,
     "metadata": {},
     "output_type": "execute_result"
    }
   ],
   "source": [
    "stats.ttest_ind(timeNone, timeDLCS)"
   ]
  },
  {
   "cell_type": "code",
   "execution_count": 156,
   "metadata": {
    "pycharm": {
     "name": "#%%\n"
    }
   },
   "outputs": [
    {
     "data": {
      "text/plain": [
       "Ttest_indResult(statistic=-15.441606360901632, pvalue=0.004167671024823506)"
      ]
     },
     "execution_count": 156,
     "metadata": {},
     "output_type": "execute_result"
    }
   ],
   "source": [
    "stats.ttest_ind(timeNone, timeDLISN)"
   ]
  },
  {
   "cell_type": "code",
   "execution_count": 157,
   "metadata": {
    "pycharm": {
     "name": "#%%\n"
    }
   },
   "outputs": [
    {
     "data": {
      "text/plain": [
       "Ttest_indResult(statistic=0.4162194468368967, pvalue=0.7176624382648094)"
      ]
     },
     "execution_count": 157,
     "metadata": {},
     "output_type": "execute_result"
    }
   ],
   "source": [
    "stats.ttest_ind(timeNone, timeDLISP)"
   ]
  },
  {
   "cell_type": "code",
   "execution_count": 158,
   "metadata": {
    "pycharm": {
     "name": "#%%\n"
    }
   },
   "outputs": [
    {
     "data": {
      "text/plain": [
       "Ttest_indResult(statistic=2.335484695577171, pvalue=0.14460226987002114)"
      ]
     },
     "execution_count": 158,
     "metadata": {},
     "output_type": "execute_result"
    }
   ],
   "source": [
    "stats.ttest_ind(timeNone, timeMOMS)"
   ]
  },
  {
   "cell_type": "code",
   "execution_count": 159,
   "metadata": {
    "pycharm": {
     "name": "#%%\n"
    }
   },
   "outputs": [
    {
     "data": {
      "text/plain": [
       "Ttest_indResult(statistic=-34.99102492419441, pvalue=0.0008157461048001211)"
      ]
     },
     "execution_count": 159,
     "metadata": {},
     "output_type": "execute_result"
    }
   ],
   "source": [
    "stats.ttest_ind(branchesNone, branchesDLCS)"
   ]
  },
  {
   "cell_type": "code",
   "execution_count": 160,
   "metadata": {
    "pycharm": {
     "name": "#%%\n"
    }
   },
   "outputs": [
    {
     "data": {
      "text/plain": [
       "Ttest_indResult(statistic=-27.602541248905773, pvalue=0.0013099293398337833)"
      ]
     },
     "execution_count": 160,
     "metadata": {},
     "output_type": "execute_result"
    }
   ],
   "source": [
    "stats.ttest_ind(branchesNone, branchesDLISN)"
   ]
  },
  {
   "cell_type": "code",
   "execution_count": 161,
   "metadata": {
    "pycharm": {
     "name": "#%%\n"
    }
   },
   "outputs": [
    {
     "data": {
      "text/plain": [
       "Ttest_indResult(statistic=-0.7964418491125871, pvalue=0.5092957280480146)"
      ]
     },
     "execution_count": 161,
     "metadata": {},
     "output_type": "execute_result"
    }
   ],
   "source": [
    "stats.ttest_ind(branchesNone, branchesDLISP)"
   ]
  },
  {
   "cell_type": "code",
   "execution_count": 162,
   "metadata": {
    "pycharm": {
     "name": "#%%\n"
    }
   },
   "outputs": [
    {
     "data": {
      "text/plain": [
       "Ttest_indResult(statistic=0.919431144219459, pvalue=0.4549314981820918)"
      ]
     },
     "execution_count": 162,
     "metadata": {},
     "output_type": "execute_result"
    }
   ],
   "source": [
    "stats.ttest_ind(branchesNone, branchesMOMS)"
   ]
  },
  {
   "cell_type": "code",
   "execution_count": 163,
   "metadata": {
    "pycharm": {
     "name": "#%%\n"
    }
   },
   "outputs": [
    {
     "data": {
      "text/plain": [
       "Ttest_indResult(statistic=-8.809961268190733, pvalue=0.012640269484346668)"
      ]
     },
     "execution_count": 163,
     "metadata": {},
     "output_type": "execute_result"
    }
   ],
   "source": [
    "stats.ttest_ind(unitCRemovedNone, unitCRemovedDLCS)"
   ]
  },
  {
   "cell_type": "code",
   "execution_count": 164,
   "metadata": {
    "pycharm": {
     "name": "#%%\n"
    }
   },
   "outputs": [
    {
     "data": {
      "text/plain": [
       "Ttest_indResult(statistic=-11.668051145600481, pvalue=0.0072652456758077275)"
      ]
     },
     "execution_count": 164,
     "metadata": {},
     "output_type": "execute_result"
    }
   ],
   "source": [
    "stats.ttest_ind(unitCRemovedNone, unitCRemovedDLISN)"
   ]
  },
  {
   "cell_type": "code",
   "execution_count": 165,
   "metadata": {
    "pycharm": {
     "name": "#%%\n"
    }
   },
   "outputs": [
    {
     "data": {
      "text/plain": [
       "Ttest_indResult(statistic=-0.4249909068160678, pvalue=0.7122005801277356)"
      ]
     },
     "execution_count": 165,
     "metadata": {},
     "output_type": "execute_result"
    }
   ],
   "source": [
    "stats.ttest_ind(unitCRemovedNone, unitCRemovedDLISP)"
   ]
  },
  {
   "cell_type": "code",
   "execution_count": 166,
   "metadata": {
    "pycharm": {
     "name": "#%%\n"
    }
   },
   "outputs": [
    {
     "data": {
      "text/plain": [
       "Ttest_indResult(statistic=-1.7785096453224396, pvalue=0.2172896056869491)"
      ]
     },
     "execution_count": 166,
     "metadata": {},
     "output_type": "execute_result"
    }
   ],
   "source": [
    "stats.ttest_ind(unitCRemovedNone, unitCRemovedMOMS)"
   ]
  },
  {
   "cell_type": "code",
   "execution_count": 167,
   "metadata": {
    "pycharm": {
     "name": "#%%\n"
    }
   },
   "outputs": [
    {
     "data": {
      "text/plain": [
       "Ttest_indResult(statistic=nan, pvalue=nan)"
      ]
     },
     "execution_count": 167,
     "metadata": {},
     "output_type": "execute_result"
    }
   ],
   "source": [
    "stats.ttest_ind(pureCRemovedNone, pureCRemovedDLCS)"
   ]
  },
  {
   "cell_type": "code",
   "execution_count": 168,
   "metadata": {
    "pycharm": {
     "name": "#%%\n"
    }
   },
   "outputs": [
    {
     "data": {
      "text/plain": [
       "Ttest_indResult(statistic=nan, pvalue=nan)"
      ]
     },
     "execution_count": 168,
     "metadata": {},
     "output_type": "execute_result"
    }
   ],
   "source": [
    "stats.ttest_ind(pureCRemovedNone, pureCRemovedDLISN)"
   ]
  },
  {
   "cell_type": "code",
   "execution_count": 169,
   "metadata": {
    "pycharm": {
     "name": "#%%\n"
    }
   },
   "outputs": [
    {
     "data": {
      "text/plain": [
       "Ttest_indResult(statistic=nan, pvalue=nan)"
      ]
     },
     "execution_count": 169,
     "metadata": {},
     "output_type": "execute_result"
    }
   ],
   "source": [
    "stats.ttest_ind(pureCRemovedNone, pureCRemovedDLISP)"
   ]
  },
  {
   "cell_type": "code",
   "execution_count": 170,
   "metadata": {
    "pycharm": {
     "name": "#%%\n"
    }
   },
   "outputs": [
    {
     "data": {
      "text/plain": [
       "Ttest_indResult(statistic=nan, pvalue=nan)"
      ]
     },
     "execution_count": 170,
     "metadata": {},
     "output_type": "execute_result"
    }
   ],
   "source": [
    "stats.ttest_ind(pureCRemovedNone, pureCRemovedMOMS)"
   ]
  },
  {
   "cell_type": "code",
   "execution_count": 85,
   "metadata": {
    "pycharm": {
     "name": "#%%\n"
    }
   },
   "outputs": [
    {
     "name": "stdout",
     "output_type": "stream",
     "text": [
      "['None', 'DLCS', 'DLISN', 'DLISP', 'MOMS', 'VSIDS'] [0.6703439130783081, 1.1164331886768342, 0.9898407735824585, 0.6643650755882263, 0.6564850664138794, 1.0937753694057464]\n",
      "['None', 'DLCS', 'DLISN', 'DLISP', 'MOMS', 'VSIDS'] [3.892, 123.877, 79.485, 4.542, 3.429, 8.71]\n",
      "['None', 'DLCS', 'DLISN', 'DLISP', 'MOMS', 'VSIDS'] [12166.522, 12426.335, 12431.753, 12190.224, 12202.332, 12190.384]\n",
      "['None', 'DLCS', 'DLISN', 'DLISP', 'MOMS', 'VSIDS'] [0.0, 0.0, 0.0, 0.0, 0.0, 0.0]\n"
     ]
    },
    {
     "data": {
      "image/png": "[encoded data removed]",
      "text/plain": [
       "<Figure size 432x288 with 1 Axes>"
      ]
     },
     "metadata": {
      "needs_background": "light"
     },
     "output_type": "display_data"
    },
    {
     "data": {
      "image/png": "[encoded data removed]",
      "text/plain": [
       "<Figure size 432x288 with 1 Axes>"
      ]
     },
     "metadata": {
      "needs_background": "light"
     },
     "output_type": "display_data"
    },
    {
     "data": {
      "image/png": "[encoded data removed]",
      "text/plain": [
       "<Figure size 432x288 with 1 Axes>"
      ]
     },
     "metadata": {
      "needs_background": "light"
     },
     "output_type": "display_data"
    },
    {
     "data": {
      "image/png": "[encoded data removed]",
      "text/plain": [
       "<Figure size 432x288 with 1 Axes>"
      ]
     },
     "metadata": {
      "needs_background": "light"
     },
     "output_type": "display_data"
    },
    {
     "name": "stdout",
     "output_type": "stream",
     "text": [
      "['None', 'DLCS', 'DLISN', 'DLISP', 'MOMS', 'VSIDS'] [0.0027707149982452, 0.002700836896896323, 0.0032182950973510312, 0.002826662778854349, 0.002760466098785382, 0.00407886314392087]\n",
      "['None', 'DLCS', 'DLISN', 'DLISP', 'MOMS', 'VSIDS'] [0.0, 0.0, 0.0, 0.0, 0.0, 0.0]\n",
      "['None', 'DLCS', 'DLISN', 'DLISP', 'MOMS', 'VSIDS'] [452.934, 452.934, 452.934, 452.934, 452.934, 452.934]\n",
      "['None', 'DLCS', 'DLISN', 'DLISP', 'MOMS', 'VSIDS'] [0.0, 0.0, 0.0, 0.0, 0.0, 0.0]\n"
     ]
    },
    {
     "data": {
      "image/png": "[encoded data removed]",
      "text/plain": [
       "<Figure size 432x288 with 1 Axes>"
      ]
     },
     "metadata": {
      "needs_background": "light"
     },
     "output_type": "display_data"
    },
    {
     "data": {
      "image/png": "[encoded data removed]",
      "text/plain": [
       "<Figure size 432x288 with 1 Axes>"
      ]
     },
     "metadata": {
      "needs_background": "light"
     },
     "output_type": "display_data"
    },
    {
     "data": {
      "image/png": "[encoded data removed]",
      "text/plain": [
       "<Figure size 432x288 with 1 Axes>"
      ]
     },
     "metadata": {
      "needs_background": "light"
     },
     "output_type": "display_data"
    },
    {
     "data": {
      "image/png": "[encoded data removed]",
      "text/plain": [
       "<Figure size 432x288 with 1 Axes>"
      ]
     },
     "metadata": {
      "needs_background": "light"
     },
     "output_type": "display_data"
    }
   ],
   "source": [
    "colors = ['red', 'blue', 'green', 'purple']\n",
    "elementNames = ['Time', 'branches', 'Unit clauses removed', 'Pure clauses removed']\n",
    "heuristics =['None', 'DLCS', 'DLISN', 'DLISP', 'MOMS', 'VSIDS']\n",
    "\n",
    "\n",
    "sizes = ['9x9','4x4']\n",
    "for size in sizes:\n",
    "    time=[]\n",
    "    branches=[]\n",
    "    unitCRemoved=[]\n",
    "    pureCRemoved=[]\n",
    "    meme = []\n",
    "    elements = [time, branches, unitCRemoved, pureCRemoved]\n",
    "    for heuristic in heuristics:\n",
    "        filename = size+'/'+heuristic+'.csv'\n",
    "        df = pd.read_csv(filename)\n",
    "        time.append(df[\"Time\"].mean())\n",
    "        branches.append(df[\"Branches\"].mean())\n",
    "        unitCRemoved.append(df[\"Unit clauses removed\"].mean())\n",
    "        pureCRemoved.append(df[\"Pure clauses removed\"].mean())\n",
    "\n",
    "    for element, name, color in zip(elements, elementNames, colors):\n",
    "        fig, ax = plt.subplots()\n",
    "        ax.set_ylabel('average '+name)\n",
    "        print(heuristics, element)\n",
    "        plt.bar(heuristics, element, color=color)\n",
    "    plt.show()"
   ]
  },
  {
   "cell_type": "code",
   "execution_count": 84,
   "metadata": {},
   "outputs": [
    {
     "name": "stdout",
     "output_type": "stream",
     "text": [
      "[0.0027707149982452, 0.002700836896896323, 0.0032182950973510312, 0.002826662778854349, 0.002760466098785382]\n",
      "[0.6703439130783081, 1.1164331886768342, 0.9898407735824585, 0.6643650755882263, 0.6564850664138794]\n"
     ]
    },
    {
     "name": "stderr",
     "output_type": "stream",
     "text": [
      "c:\\users\\ramon\\appdata\\local\\programs\\python\\python37\\lib\\site-packages\\ipykernel_launcher.py:21: UserWarning: FixedFormatter should only be used together with FixedLocator\n"
     ]
    },
    {
     "data": {
      "image/png": "[encoded data removed]",
      "text/plain": [
       "<Figure size 432x288 with 1 Axes>"
      ]
     },
     "metadata": {
      "needs_background": "light"
     },
     "output_type": "display_data"
    }
   ],
   "source": [
    "print(time4)\n",
    "print(time9)\n",
    "lists = ['None', 'DLCS', 'DLISN', 'DLISP', 'MOMS']\n",
    "\n",
    "none = [time4[0],time9[0]]\n",
    "dlcs = [time4[1],time9[1]]\n",
    "dlisn = [time4[2],time9[2]]\n",
    "dlisp = [time4[3],time9[3]]\n",
    "moms = [time4[4],time9[4]]\n",
    "\n",
    "fig, ax = plt.subplots()\n",
    "plt.plot(none, label='none')\n",
    "plt.plot(dlcs, label='dlcs', color= 'green')\n",
    "plt.plot(dlisn, label='dlisn', color='red')\n",
    "plt.plot(dlisp, label='dlisp', color='darkorchid')\n",
    "plt.plot(moms, label='moms')\n",
    "plt.legend(prop={'size': 12})\n",
    "plt.locator_params(axis='x',nbins=2)\n",
    "plt.ylabel(\"Mean time (s)\")\n",
    "plt.xlabel(\"sudoku size\")\n",
    "ax.set_ylim([0, 1.15])\n",
    "ax.set_xticklabels([3, '4x4', '9x9'])\n",
    "#plt.savefig('time comparisons.png')\n",
    "plt.show()\n",
    "\n",
    "\n"
   ]
  },
  {
   "cell_type": "code",
   "execution_count": null,
   "metadata": {},
   "outputs": [],
   "source": []
  }
 ],
 "metadata": {
  "kernelspec": {
   "display_name": "Python 3",
   "language": "python",
   "name": "python3"
  },
  "language_info": {
   "codemirror_mode": {
    "name": "ipython",
    "version": 3
   },
   "file_extension": ".py",
   "mimetype": "text/x-python",
   "name": "python",
   "nbconvert_exporter": "python",
   "pygments_lexer": "ipython3",
   "version": "3.7.9"
  }
 },
 "nbformat": 4,
 "nbformat_minor": 4
}
